{
 "cells": [
  {
   "cell_type": "code",
   "execution_count": 8,
   "metadata": {},
   "outputs": [
    {
     "data": {
      "text/plain": [
       "True"
      ]
     },
     "execution_count": 8,
     "metadata": {},
     "output_type": "execute_result"
    }
   ],
   "source": [
    "from openai import OpenAI\n",
    "import os\n",
    "from dotenv import load_dotenv\n",
    "import re\n",
    "\n",
    "load_dotenv()"
   ]
  },
  {
   "cell_type": "code",
   "execution_count": 9,
   "metadata": {},
   "outputs": [],
   "source": [
    "api_key = os.getenv(\"OPENAI_API_KEY\")\n",
    "client = OpenAI(api_key=api_key)"
   ]
  },
  {
   "cell_type": "code",
   "execution_count": 14,
   "metadata": {},
   "outputs": [
    {
     "name": "stdout",
     "output_type": "stream",
     "text": [
      "### Talimat:\n",
      "Aşağıdaki gerçekler verildiğinde:\n",
      "- Almanya, Türkiye'ye torpido ve güdümlü füze ihracatı için izin verdi.\n",
      "- Siemens firması, Akkuyu Nükleer Santrali için gerekli ekipmanları teslim etmeme konusunda gündemde.\n",
      "- Türkiye'nin savunma sanayii, Cumhurbaşkanı Erdoğan önderliğinde ambargolarla karşılaşılan ürünlerin yerli üretimine odaklanmış durumda.\n",
      "- Türkiye yerli İHA ve SİHA üretiminde dünya çapında tanınan bir konuma ulaştı.\n",
      "\n",
      "Ve tarif edilen olay:\n",
      "Almanya'nın Türkiye'ye torpido ve güdümlü füze ihracatına izin vermesi, ülkeler arasındaki ticari ilişkilere dair önemli bir gelişme olarak görülüyor. Türkiye'nin savunma sanayisindeki yerli üretim kapasitesi sayesinde geçmişteki ambargoların üstesinden gelindiği ve stratejik önem taşıyan ürünlerde dışa bağımlılığın azaldığı vurgulanmaktadır.\n",
      "\n",
      "Bu olayın daha geniş etkileri hakkında bir köşe yazısı yazın. Olayın kamu politikalarını, toplumsal tutumları veya gelecekteki gelişmeleri nasıl etkileyebileceğini göz önünde bulundurun.\n"
     ]
    }
   ],
   "source": [
    "# Function to format the instruction from key facts and event summary\n",
    "def generate_instruction_from_facts_and_summary(key_facts, event_summary):\n",
    "    # Format the key facts into a bullet point list\n",
    "    formatted_facts = '\\n'.join(key_facts)\n",
    "\n",
    "    # Construct the instruction template with the provided facts and event summary\n",
    "    instruction = f\"\"\"\n",
    "### Talimat:\n",
    "Aşağıdaki gerçekler verildiğinde:\n",
    "{formatted_facts}\n",
    "\n",
    "Ve tarif edilen olay:\n",
    "{event_summary}\n",
    "\n",
    "Bu olayın daha geniş etkileri hakkında bir köşe yazısı yazın. Olayın kamu politikalarını, toplumsal tutumları veya gelecekteki gelişmeleri nasıl etkileyebileceğini göz önünde bulundurun.\n",
    "    \"\"\"\n",
    "    return instruction.strip()\n",
    "\n",
    "# Main function to extract key facts and event summary, then format the instruction\n",
    "def generate_instruction(article_content):\n",
    "    # Prepare the conversation state for GPT-4o chat-based completion\n",
    "    conversation_state = [\n",
    "        {\"role\": \"system\", \"content\": \"Sen, aşağıdaki içeriğin yalnızca gerçeklere dayanan önemli noktalarını ve ana olayın gerçeklere dayanan bir özetini çıkarmakla görevlendirilmiş bir yardımcı asistansın. Orijinal makaleye herhangi bir şekilde atıfta bulunma. 'Makalede belirtiliyor ki' ya da 'Metne göre' gibi ifadelerden kaçın. Gerçek noktaları ve ana olayı tarafsız ve doğrudan bir şekilde sun. Yanıtı şu şekilde biçimlendir:\\n\\n**Önemli Gerçekler**:\\n- Gerçek 1\\n- Gerçek 2\\n- Gerçek 3\\n\\n**Ana Olay Özeti**:\\n- [Ana olayın kısa özeti].\"},\n",
    "        {\"role\": \"user\", \"content\": f\"İçerik burada:\\n\\n{article_content}\\n\\nLütfen aşağıdakileri çıkar:\\n1. Önemli gerçekler (makalede açıkça belirtilen olgusal noktalar).\\n2. Ana olayın gerçeklere dayanan özeti (ana olayı nesnel ve tarafsız bir şekilde tanımla, yorum ya da öznel analiz ekleme).\"}\n",
    "    ]\n",
    "\n",
    "    # Call GPT-4o chat-based completion API\n",
    "    try:\n",
    "        response = client.chat.completions.create(\n",
    "            model=\"gpt-4o\",\n",
    "            messages=conversation_state,\n",
    "            max_tokens=600\n",
    "        )\n",
    "\n",
    "        # Extract the response from the assistant\n",
    "        output = response.choices[0].message.content.strip()\n",
    "\n",
    "        # Use case-insensitive flag via re.IGNORECASE, and clean up the expression\n",
    "        key_facts_match = re.search(r\"\\*\\*Önemli Gerçekler\\*\\*([\\s\\S]*?)\\*\\*Ana Olay Özeti\\*\\*\", output, re.IGNORECASE)\n",
    "        event_summary_match = re.search(r\"\\*\\*Ana Olay Özeti\\*\\*([\\s\\S]*)\", output, re.IGNORECASE)\n",
    "        \n",
    "        if key_facts_match:\n",
    "            # Extract key facts (assuming each fact starts with a hyphen \"-\")\n",
    "            key_facts_section = key_facts_match.group(1)\n",
    "            key_facts = [fact.strip() for fact in key_facts_section.split(\"\\n\") if fact.strip().startswith('-')]\n",
    "        else:\n",
    "            key_facts = []\n",
    "\n",
    "        if event_summary_match:\n",
    "            event_summary = event_summary_match.group(1).strip()\n",
    "\n",
    "            # Remove any leading colon or unwanted characters before the summary\n",
    "            event_summary = re.sub(r\"^[:\\-\\s]+\", \"\", event_summary).strip()\n",
    "        else:\n",
    "            event_summary = \"\"\n",
    "\n",
    "        # Format the final instruction using the key facts and event summary\n",
    "        instruction = generate_instruction_from_facts_and_summary(key_facts, event_summary)\n",
    "        return instruction\n",
    "\n",
    "\n",
    "    except Exception as e:\n",
    "        print(f\"An error occurred: {e}\")\n",
    "        return None\n",
    "    \n",
    "\n",
    "# Example usage with one article's content\n",
    "article_content = \"\"\"\n",
    "Alman medyasında Türkiye hakkında bir haber çıktığında hepimiz önce bir irkiliriz.\n",
    "Acaba terör örgütlerinden hangisini öveceğini düşünürüz.\n",
    "Bu Almanya'ya karşı bir önyargı değil, yılların getirdiği bir deneyimin sonucudur.\n",
    "Alman medyası, PKK'dan DHKP/ C'ye, FETÖ'den MLKP'ye nerede Türkiye'nin başına bela olmuş bir terör örgütü varsa onu övmesi ve meşrulaştırmasıyla meşhurdur.\n",
    "Ancak Alman medyasında Türkiye hakkında yer alan bir haber hepimizi biraz şaşırttı.\n",
    "Haberi veren Spiegel dergisi, Almanya'nın Türkiye'ye torpido ve güdümlü füze ihracatı için izin verdiğini açıkladı.\n",
    "Alman hükümetinde bir değişiklik olmadığı, paralel bir evrene de geçmediğimize göre bu oldukça önemli bir haberdi.\n",
    "Çünkü Almanya merkezli başka bir haber de Siemens firmasının Akkuyu Nükleer Santrali'miz için gerekli ekipmanları yollamadığı gündemdeyken çok sayıda Türkiye düşmanı bakana sahip Alman hükümeti bu izni vermişti.\n",
    "Cevap aslında oldukça basit ama bir o kadar da önemli: Çünkü artık biz üretiyoruz.\n",
    "Türk savunma sanayii, Cumhurbaşkanı Erdoğan önderliğinde Türk mühendislerinin insanüstü çabasıyla yurtdışında paramızla bize verilmeyen hangi ürün varsa onu üretmek için var gücüyle çalışıp ambargolarını başlarına çaldı.\n",
    "O yüzden artık istediğimiz ürünü vermediklerinde çok da dert etmiyoruz.\n",
    "ABD ve İsrail'in bize vaktiyle İHA vermeyip Türkiye'yi dünyanın en büyük İHA üreticisi yapmalarında olduğu gibi onlarca örnek var.\n",
    "Mesela Kanada, SİHA'larımız için Elektro-Optik Keşif, Gözetleme ve Hedef Tespit Sistemi CATS'ların satışını yasaklayarak bizi bu sektöre de sokmuştu.\n",
    "Hatta artık Kanada'dan daha kaliteli ürünler geliştirmiştik.\n",
    "Ve evet, Kanada da \"\"ambargosunu\"\" kaldırmıştı.\n",
    "Bugün de Almanya'nın bize vaktiyle vermediği torpido ve güdümlü füzeleri üretmeye başladık.\n",
    "Almanya o yüzden bu satışa izin vererek Türkiye'deki Alman hayranlarını şaşırttı.\n",
    "Terör örgütü PKK ile mücadele ettiğimiz için parasıyla sattığı tankların parçalarını yollamayan, Türkiye'nin enerji bağımsızlığı için gerekli olan barajları engellemek için her türlü imkânını seferber eden Almanya'dan benzer haberler göreceğiz.\n",
    "Bu zamana kadar vermek istemediği ne kadar savunma sanayii ürünü varsa şimdi satmak için kendisi çabalayacak.\n",
    "Bu nokta bizi rehavete sevk etmemeli.\n",
    "Elbette ki Türk Silahlı Kuvvetleri'mizin ihtiyaçlarının karşılanması gerekiyor ve bu yapılmalı.\n",
    "Ancak satın aldığımız her ürünün daha iyisini kendi imkânlarımızla üretme amacımızdan bir an bile vazgeçmemeliyiz.\n",
    "Biz bu hedeften sapmadığımız sürece düne kadar kırk dereden su getiren \"\"müttefiklerimizin\"\" kapımızı aşındırdığını göreceğiz.\n",
    "Çünkü artık biz üretiyoruz.\n",
    "\"\"\"\n",
    "\n",
    "# Generate the instruction (key facts and event summary)\n",
    "instruction = generate_instruction(article_content)\n",
    "print(instruction)"
   ]
  }
 ],
 "metadata": {
  "kernelspec": {
   "display_name": "Python 3",
   "language": "python",
   "name": "python3"
  },
  "language_info": {
   "codemirror_mode": {
    "name": "ipython",
    "version": 3
   },
   "file_extension": ".py",
   "mimetype": "text/x-python",
   "name": "python",
   "nbconvert_exporter": "python",
   "pygments_lexer": "ipython3",
   "version": "3.11.3"
  }
 },
 "nbformat": 4,
 "nbformat_minor": 2
}
