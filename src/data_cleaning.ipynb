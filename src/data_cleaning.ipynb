{
 "cells": [
  {
   "cell_type": "code",
   "execution_count": 2,
   "metadata": {},
   "outputs": [],
   "source": [
    "import pandas as pd\n",
    "import re"
   ]
  },
  {
   "cell_type": "code",
   "execution_count": 16,
   "metadata": {},
   "outputs": [],
   "source": [
    "columnist_name = 'hilalkaplan'\n",
    "\n",
    "# Load the CSV file\n",
    "df = pd.read_csv(f'../columnist_data/full_articles/{columnist_name}_full_articles.csv')\n",
    "\n",
    "# Function to clean article content and handle word splits\n",
    "def clean_article_content(text):\n",
    "    # 1. Remove the quotation marks at the very beginning and at the end\n",
    "    # text = text.strip('\"')\n",
    "    \n",
    "    # 2. Handle cases where sentence-ending punctuation is on a new line\n",
    "    # Move punctuation on its own line to the end of the previous sentence\n",
    "    text = re.sub(r'\\n([.!?])', r'\\1', text)  # Moves punctuation to the end of the previous line\n",
    "    \n",
    "    # 3. Handle word splits (e.g., Erdoğan'\\nın or Erdoğan\\n'ın)\n",
    "    text = re.sub(r'(\\S+)\\n([\\'‘’])(\\S+)', r'\\1\\2\\3', text)  # Handles Erdoğan\\n'ın\n",
    "    text = re.sub(r'(\\S+)([\\'‘’])\\n(\\S+)', r'\\1\\2\\3', text)  # Handles Erdoğan'\\nın\n",
    "    \n",
    "    # 4. Preserve newlines after sentence-ending punctuation\n",
    "    # Ensure that periods, question marks, and exclamations are followed by a newline\n",
    "    text = re.sub(r'([.!?])\\s+', r'\\1\\n', text)  # Keep newlines after sentence-ending punctuation\n",
    "\n",
    "    # 5. Remove unnecessary newlines that break sentences but keep newlines after sentence-ending punctuation\n",
    "    # First, temporarily mark proper newlines (after sentence-ending punctuation)\n",
    "    text = re.sub(r'([.!?])\\n', r'\\1<SENT_END>', text)  # Temporarily replace newline after punctuation with a marker\n",
    "    \n",
    "    # Now, remove all other newlines\n",
    "    text = re.sub(r'\\n+', ' ', text)\n",
    "    \n",
    "    # Restore the newlines after punctuation (replace the marker with a newline)\n",
    "    text = text.replace('<SENT_END>', '\\n')\n",
    "    \n",
    "    # 6. Fix extra quotation marks in quoted sentences (\"\"quotation\"\") -> \"quotation\"\n",
    "    # text = re.sub(r'\"\\s*\"\\s*(.*?)\\s*\"\\s*\"', r'\"\\1\"', text)  # Handles extra quotes around the quoted text\n",
    "    \n",
    "    # Ensure the content is clean and trimmed\n",
    "    text = text.strip()\n",
    "    \n",
    "    return text\n",
    "\n",
    "# Clean each article in the DataFrame\n",
    "df['Article Content'] = df['Article Content'].apply(clean_article_content)\n",
    "\n",
    "# Save the cleaned data to a new CSV or JSONL file\n",
    "df.to_csv(f'../columnist_data/cleaned_articles/{columnist_name}_cleaned_articles.csv', index=False)"
   ]
  },
  {
   "cell_type": "code",
   "execution_count": 15,
   "metadata": {},
   "outputs": [
    {
     "data": {
      "text/plain": [
       "'Son haftalarda şahit olduğumuz üzücü olayların ruhumuzu kararttığı, bizi hüzne ve endişeye sevk ettiği ortada.\\nMaruz kaldığımız haberlerdeki\\nşiddet\\nve istismarın\\nbüyüklüğü\\nkarşısında ebeveynlerin kendilerinden önce çocukları için korktuğunu söylemek için kâhin olmaya gerek yok.\\nBu olaylara bir de\\nDiscord\\nadlı uygulamada yaşanan rezillikler eklenince yapılan operasyonlarla paralel olarak siteye erişim engeli geldi.\\nDiscord\\ntemel olarak oyun oynayanlar için planlanmış bir anlık mesajlaşma ve dijital dağıtım platformu.\\nYapılan son araştırmalara göre tüm dünyada internet üzerinden siyasi gündemi aktaran platformlar arasında ikinci sırada.\\nTürkiye\\n\\'de ebeveynlerin çoğunlukla,\\n\"Bizim çocuk oynadığı bilgisayar\\noyunu hakkında bilgi ediniyor.\\nBiraz da içine kapanık olduğu için\\norada yaşıtları ile sohbet ediyor\"\\ndüşüncesiyle olumsuz görüşlere sahip olmadığı bir platformdu.\\nEn azından son rezillikler tamamen ortaya çıkmadan önce.\\nAslında daha önce Discord benzeri oluşumların\\ngençleri\\nve hatta çocukları\\nnasıl zehirlediğini\\nanlatanlar da yok değildi, ancak maalesef yeterince dikkat kesilemedik.\\nBu mecralarda ünlü olanların nasıl gençler üzerinde etkili olduğunu, hatta birer kanaat önderine dönüştüğünü tam manasıyla idrak edemedik.\\nBugün geldiğimiz noktada şunu rahatlıkla söyleyebiliriz ki\\nbu mecralar\\nçocuk ve genç istismarlarının en uç\\nnoktalarının yaşandığı, hiçbir kural\\nve ahlak kaidesinin umursanmadığı\\n\"starları\" ile evimizin içindeki birer\\nbomba haline gelmiş\\n.\\nPeki Discord\\'un kapatılması bu sorunları çözecek mi?\\nElbette tüm sorunları bir anda çözmeyecek, ancak şu an bu bataklıktan ne kadar genci çıkartabilirsek kârdır.\\nDiscord\\'a erişim engeli gelmesinin en önemli faydalarından biri, belki de evlatlarının\\noyun videoları izlediğini zanneden\\nanne babaların yaptıkları hatanın farkına varması olacak.\\nEğer çocuklarımızla ilgilenmez, onları bir bilgisayar masasına hapsederek hayatımızdan çıkartırsak onları bizden çalacak sapkınların ellerine teslim etmiş olacağız.'"
      ]
     },
     "execution_count": 15,
     "metadata": {},
     "output_type": "execute_result"
    }
   ],
   "source": [
    "df[\"Article Content\"][0]"
   ]
  }
 ],
 "metadata": {
  "kernelspec": {
   "display_name": "Python 3",
   "language": "python",
   "name": "python3"
  },
  "language_info": {
   "codemirror_mode": {
    "name": "ipython",
    "version": 3
   },
   "file_extension": ".py",
   "mimetype": "text/x-python",
   "name": "python",
   "nbconvert_exporter": "python",
   "pygments_lexer": "ipython3",
   "version": "3.10.7"
  }
 },
 "nbformat": 4,
 "nbformat_minor": 2
}
