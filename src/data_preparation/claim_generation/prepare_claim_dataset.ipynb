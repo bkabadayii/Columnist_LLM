{
 "cells": [
  {
   "cell_type": "code",
   "execution_count": 1,
   "metadata": {},
   "outputs": [],
   "source": [
    "import json\n",
    "from sklearn.model_selection import train_test_split\n",
    "import random"
   ]
  },
  {
   "cell_type": "code",
   "execution_count": 3,
   "metadata": {},
   "outputs": [],
   "source": [
    "def extract_claims(data):\n",
    "    \"\"\"Extracts claims and labels them as 'yes' or 'no' based on their type.\"\"\"\n",
    "    output = []\n",
    "    for article in data:\n",
    "        article_id = article[\"Article Id\"]\n",
    "        claims_list = []\n",
    "\n",
    "        # Process supporting claims\n",
    "        for idx, claim in enumerate(article.get(\"Claims\", [])):\n",
    "            claims_list.append({\n",
    "                \"claim_id\": f\"1.{idx + 1}\",\n",
    "                \"claim\": claim,\n",
    "                \"reference\": \"Yes\"\n",
    "            })\n",
    "\n",
    "        # Process contradicting claims\n",
    "        for idx, contradicting_claim in enumerate(article.get(\"Contradicting Claims\", [])):\n",
    "            claims_list.append({\n",
    "                \"claim_id\": f\"2.{idx + 1}\",\n",
    "                \"claim\": contradicting_claim,\n",
    "                \"reference\": \"No\"\n",
    "            })\n",
    "        \n",
    "        # Shuffle the claims within the article\n",
    "        random.shuffle(claims_list)\n",
    "\n",
    "        # Append structured data to output\n",
    "        output.append({\n",
    "            \"article_id\": article_id,\n",
    "            \"claims\": claims_list\n",
    "        })\n",
    "    \n",
    "    return output\n",
    "\n",
    "def read_json_file(file_path):\n",
    "    \"\"\"Reads the data from a JSON file.\"\"\"\n",
    "    with open(file_path, 'r', encoding='utf-8') as file:\n",
    "        data = json.load(file)\n",
    "    return data\n",
    "\n",
    "def write_json_file(data, output_path):\n",
    "    \"\"\"Writes the processed data to a JSON file.\"\"\"\n",
    "    with open(output_path, 'w', encoding='utf-8') as file:\n",
    "        json.dump(data, file, ensure_ascii=False, indent=4)\n",
    "\n",
    "def split_dataset(data, test_size=0.2):\n",
    "    \"\"\"Splits the dataset into training and testing sets.\"\"\"\n",
    "    # Split the dataset\n",
    "    train_data, test_data = train_test_split(data, test_size=test_size, random_state=42)\n",
    "    return train_data, test_data"
   ]
  },
  {
   "cell_type": "markdown",
   "metadata": {},
   "source": [
    "### Convert Claims to JSON"
   ]
  },
  {
   "cell_type": "code",
   "execution_count": 9,
   "metadata": {},
   "outputs": [
    {
     "name": "stdout",
     "output_type": "stream",
     "text": [
      "Processed data has been written to ../../../columnist_data/claims_json/hilalkaplan_claims.json\n"
     ]
    }
   ],
   "source": [
    "# Specify the input and output file paths\n",
    "input_file = '../../../columnist_data/claims_json/claims_400.json'\n",
    "output_file = '../../../columnist_data/claims_json/hilalkaplan_claims.json'\n",
    "\n",
    "# Read the input data\n",
    "data = read_json_file(input_file)\n",
    "\n",
    "# Process the data to extract claims\n",
    "processed_data = extract_claims(data)\n",
    "\n",
    "# Write the processed data to an output file\n",
    "write_json_file(processed_data, output_file)\n",
    "\n",
    "print(f\"Processed data has been written to {output_file}\")"
   ]
  },
  {
   "cell_type": "markdown",
   "metadata": {},
   "source": [
    "### Split Dataset"
   ]
  },
  {
   "cell_type": "code",
   "execution_count": 6,
   "metadata": {},
   "outputs": [
    {
     "name": "stdout",
     "output_type": "stream",
     "text": [
      "Training data has been written to ../../../finetune_data/hilalkaplan_claims/hilalkaplan_claims_train.json\n",
      "Testing data has been written to ../../../finetune_data/hilalkaplan_claims/hilalkaplan_claims_test.json\n"
     ]
    }
   ],
   "source": [
    "input_file = '../../../finetune_data/hilalkaplan_claims/hilalkaplan_claims.json'\n",
    "train_output_file = '../../../finetune_data/hilalkaplan_claims/hilalkaplan_claims_train.json'\n",
    "test_output_file = '../../../finetune_data/hilalkaplan_claims/hilalkaplan_claims_test.json'\n",
    "\n",
    "data = read_json_file(input_file)\n",
    "\n",
    "# Split the data into train and test sets\n",
    "train_data, test_data = split_dataset(data, test_size=0.2)\n",
    "\n",
    "# Write the train and test datasets to JSON files\n",
    "write_json_file(train_data, train_output_file)\n",
    "write_json_file(test_data, test_output_file)\n",
    "\n",
    "print(f\"Training data has been written to {train_output_file}\")\n",
    "print(f\"Testing data has been written to {test_output_file}\")"
   ]
  }
 ],
 "metadata": {
  "kernelspec": {
   "display_name": "Python 3",
   "language": "python",
   "name": "python3"
  },
  "language_info": {
   "codemirror_mode": {
    "name": "ipython",
    "version": 3
   },
   "file_extension": ".py",
   "mimetype": "text/x-python",
   "name": "python",
   "nbconvert_exporter": "python",
   "pygments_lexer": "ipython3",
   "version": "3.10.7"
  }
 },
 "nbformat": 4,
 "nbformat_minor": 2
}
