{
 "cells": [
  {
   "cell_type": "code",
   "execution_count": 7,
   "metadata": {},
   "outputs": [
    {
     "name": "stdout",
     "output_type": "stream",
     "text": [
      "Saved 300 'Evet' items for fehimtastekin to ../../../siu_test_files/fehimtastekin_test.json\n",
      "Saved 300 'Evet' items for hilalkaplan to ../../../siu_test_files/hilalkaplan_test.json\n",
      "Saved 300 'Evet' items for ismailsaymaz to ../../../siu_test_files/ismailsaymaz_test.json\n",
      "Saved 300 'Evet' items for mehmettezkan to ../../../siu_test_files/mehmettezkan_test.json\n",
      "Saved 300 'Evet' items for melihasik to ../../../siu_test_files/melihasik_test.json\n",
      "Saved 300 'Evet' items for nagehanalci to ../../../siu_test_files/nagehanalci_test.json\n"
     ]
    }
   ],
   "source": [
    "import os\n",
    "import json\n",
    "import random\n",
    "\n",
    "# List of columnists\n",
    "columnists = [\n",
    "    \"fehimtastekin\",\n",
    "    \"hilalkaplan\",\n",
    "    \"ismailsaymaz\",\n",
    "    \"mehmettezkan\",\n",
    "    \"melihasik\",\n",
    "    \"nagehanalci\",\n",
    "]\n",
    "\n",
    "# Number of samples you want\n",
    "n = 300\n",
    "\n",
    "# Ensure output directory exists\n",
    "output_dir = \"../../../siu_test_files\"\n",
    "os.makedirs(output_dir, exist_ok=True)\n",
    "\n",
    "for columnist in columnists:\n",
    "    # Path to input file\n",
    "    input_file = f\"../../../finetune_data/claim_questions/{columnist}/{columnist}_test.json\"\n",
    "    \n",
    "    # Read the JSON data\n",
    "    with open(input_file, \"r\", encoding=\"utf-8\") as f:\n",
    "        data = json.load(f)\n",
    "    \n",
    "    # Filter where agreement == \"Evet\"\n",
    "    evet_items = [item for item in data if item.get(\"agreement\") == \"Evet\"]\n",
    "    \n",
    "    # If you want a random subset of size n:\n",
    "    selected = random.sample(evet_items, min(n, len(evet_items)))\n",
    "    \n",
    "    # Path to output file\n",
    "    output_file = os.path.join(output_dir, f\"{columnist}_test.json\")\n",
    "    \n",
    "    # Write the filtered data to the output file\n",
    "    with open(output_file, \"w\", encoding=\"utf-8\") as f:\n",
    "        json.dump(selected, f, ensure_ascii=False, indent=4)\n",
    "\n",
    "    print(f\"Saved {len(selected)} 'Evet' items for {columnist} to {output_file}\")\n"
   ]
  },
  {
   "cell_type": "code",
   "execution_count": null,
   "metadata": {},
   "outputs": [],
   "source": []
  }
 ],
 "metadata": {
  "kernelspec": {
   "display_name": "Python 3",
   "language": "python",
   "name": "python3"
  },
  "language_info": {
   "codemirror_mode": {
    "name": "ipython",
    "version": 3
   },
   "file_extension": ".py",
   "mimetype": "text/x-python",
   "name": "python",
   "nbconvert_exporter": "python",
   "pygments_lexer": "ipython3",
   "version": "3.10.7"
  }
 },
 "nbformat": 4,
 "nbformat_minor": 2
}
